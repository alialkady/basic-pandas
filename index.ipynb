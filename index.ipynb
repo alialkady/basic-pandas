{
 "cells": [
  {
   "cell_type": "code",
   "execution_count": 30,
   "id": "c518da4d-3047-40aa-86eb-e8f7d0c619c1",
   "metadata": {},
   "outputs": [],
   "source": [
    "import pandas as pd"
   ]
  },
  {
   "cell_type": "code",
   "execution_count": 31,
   "id": "fa1b6ce6-7a6f-4c96-9358-2738ea0dfe04",
   "metadata": {},
   "outputs": [],
   "source": [
    "people = {\"first\":[\"Ali\",\"Ahmed\",\"mohamed\"],\"last\":[\"hassan\",\"omar\",\"abdo\"],\"email\":[\"ali@gmial.com\",\"ahmed@gmail.com\",\"mohamed@gmail.com\"]}"
   ]
  },
  {
   "cell_type": "code",
   "execution_count": 32,
   "id": "3c66f3d5-b6aa-47ad-8b62-b2e41a8f2dab",
   "metadata": {},
   "outputs": [
    {
     "data": {
      "text/html": [
       "<div>\n",
       "<style scoped>\n",
       "    .dataframe tbody tr th:only-of-type {\n",
       "        vertical-align: middle;\n",
       "    }\n",
       "\n",
       "    .dataframe tbody tr th {\n",
       "        vertical-align: top;\n",
       "    }\n",
       "\n",
       "    .dataframe thead th {\n",
       "        text-align: right;\n",
       "    }\n",
       "</style>\n",
       "<table border=\"1\" class=\"dataframe\">\n",
       "  <thead>\n",
       "    <tr style=\"text-align: right;\">\n",
       "      <th></th>\n",
       "      <th>first</th>\n",
       "      <th>last</th>\n",
       "      <th>email</th>\n",
       "    </tr>\n",
       "  </thead>\n",
       "  <tbody>\n",
       "    <tr>\n",
       "      <th>0</th>\n",
       "      <td>Ali</td>\n",
       "      <td>hassan</td>\n",
       "      <td>ali@gmial.com</td>\n",
       "    </tr>\n",
       "    <tr>\n",
       "      <th>1</th>\n",
       "      <td>Ahmed</td>\n",
       "      <td>omar</td>\n",
       "      <td>ahmed@gmail.com</td>\n",
       "    </tr>\n",
       "    <tr>\n",
       "      <th>2</th>\n",
       "      <td>mohamed</td>\n",
       "      <td>abdo</td>\n",
       "      <td>mohamed@gmail.com</td>\n",
       "    </tr>\n",
       "  </tbody>\n",
       "</table>\n",
       "</div>"
      ],
      "text/plain": [
       "     first    last              email\n",
       "0      Ali  hassan      ali@gmial.com\n",
       "1    Ahmed    omar    ahmed@gmail.com\n",
       "2  mohamed    abdo  mohamed@gmail.com"
      ]
     },
     "execution_count": 32,
     "metadata": {},
     "output_type": "execute_result"
    }
   ],
   "source": [
    "df = pd.DataFrame(people)\n",
    "df"
   ]
  },
  {
   "cell_type": "code",
   "execution_count": 33,
   "id": "3eb9e292-75a0-4bc2-946f-e12d69691f78",
   "metadata": {},
   "outputs": [],
   "source": [
    "#set_index"
   ]
  },
  {
   "cell_type": "code",
   "execution_count": 34,
   "id": "4fc6b3fb-6e4d-4029-963b-a182fe263d64",
   "metadata": {},
   "outputs": [
    {
     "data": {
      "text/html": [
       "<div>\n",
       "<style scoped>\n",
       "    .dataframe tbody tr th:only-of-type {\n",
       "        vertical-align: middle;\n",
       "    }\n",
       "\n",
       "    .dataframe tbody tr th {\n",
       "        vertical-align: top;\n",
       "    }\n",
       "\n",
       "    .dataframe thead th {\n",
       "        text-align: right;\n",
       "    }\n",
       "</style>\n",
       "<table border=\"1\" class=\"dataframe\">\n",
       "  <thead>\n",
       "    <tr style=\"text-align: right;\">\n",
       "      <th></th>\n",
       "      <th>first</th>\n",
       "      <th>last</th>\n",
       "    </tr>\n",
       "    <tr>\n",
       "      <th>email</th>\n",
       "      <th></th>\n",
       "      <th></th>\n",
       "    </tr>\n",
       "  </thead>\n",
       "  <tbody>\n",
       "    <tr>\n",
       "      <th>ali@gmial.com</th>\n",
       "      <td>Ali</td>\n",
       "      <td>hassan</td>\n",
       "    </tr>\n",
       "    <tr>\n",
       "      <th>ahmed@gmail.com</th>\n",
       "      <td>Ahmed</td>\n",
       "      <td>omar</td>\n",
       "    </tr>\n",
       "    <tr>\n",
       "      <th>mohamed@gmail.com</th>\n",
       "      <td>mohamed</td>\n",
       "      <td>abdo</td>\n",
       "    </tr>\n",
       "  </tbody>\n",
       "</table>\n",
       "</div>"
      ],
      "text/plain": [
       "                     first    last\n",
       "email                             \n",
       "ali@gmial.com          Ali  hassan\n",
       "ahmed@gmail.com      Ahmed    omar\n",
       "mohamed@gmail.com  mohamed    abdo"
      ]
     },
     "execution_count": 34,
     "metadata": {},
     "output_type": "execute_result"
    }
   ],
   "source": [
    "df.set_index(\"email\")"
   ]
  },
  {
   "cell_type": "code",
   "execution_count": 35,
   "id": "be38574d-26ec-4ef5-8994-62ecf71fb657",
   "metadata": {},
   "outputs": [
    {
     "data": {
      "text/html": [
       "<div>\n",
       "<style scoped>\n",
       "    .dataframe tbody tr th:only-of-type {\n",
       "        vertical-align: middle;\n",
       "    }\n",
       "\n",
       "    .dataframe tbody tr th {\n",
       "        vertical-align: top;\n",
       "    }\n",
       "\n",
       "    .dataframe thead th {\n",
       "        text-align: right;\n",
       "    }\n",
       "</style>\n",
       "<table border=\"1\" class=\"dataframe\">\n",
       "  <thead>\n",
       "    <tr style=\"text-align: right;\">\n",
       "      <th></th>\n",
       "      <th>first</th>\n",
       "      <th>last</th>\n",
       "      <th>email</th>\n",
       "    </tr>\n",
       "  </thead>\n",
       "  <tbody>\n",
       "    <tr>\n",
       "      <th>0</th>\n",
       "      <td>Ali</td>\n",
       "      <td>hassan</td>\n",
       "      <td>ali@gmial.com</td>\n",
       "    </tr>\n",
       "    <tr>\n",
       "      <th>1</th>\n",
       "      <td>Ahmed</td>\n",
       "      <td>omar</td>\n",
       "      <td>ahmed@gmail.com</td>\n",
       "    </tr>\n",
       "    <tr>\n",
       "      <th>2</th>\n",
       "      <td>mohamed</td>\n",
       "      <td>abdo</td>\n",
       "      <td>mohamed@gmail.com</td>\n",
       "    </tr>\n",
       "  </tbody>\n",
       "</table>\n",
       "</div>"
      ],
      "text/plain": [
       "     first    last              email\n",
       "0      Ali  hassan      ali@gmial.com\n",
       "1    Ahmed    omar    ahmed@gmail.com\n",
       "2  mohamed    abdo  mohamed@gmail.com"
      ]
     },
     "execution_count": 35,
     "metadata": {},
     "output_type": "execute_result"
    }
   ],
   "source": [
    "df #there's no change in dataframe but if i used inplace = True it will change"
   ]
  },
  {
   "cell_type": "code",
   "execution_count": 36,
   "id": "1e200c2c-81a6-4667-b89f-9d7fda40527d",
   "metadata": {},
   "outputs": [
    {
     "data": {
      "text/html": [
       "<div>\n",
       "<style scoped>\n",
       "    .dataframe tbody tr th:only-of-type {\n",
       "        vertical-align: middle;\n",
       "    }\n",
       "\n",
       "    .dataframe tbody tr th {\n",
       "        vertical-align: top;\n",
       "    }\n",
       "\n",
       "    .dataframe thead th {\n",
       "        text-align: right;\n",
       "    }\n",
       "</style>\n",
       "<table border=\"1\" class=\"dataframe\">\n",
       "  <thead>\n",
       "    <tr style=\"text-align: right;\">\n",
       "      <th></th>\n",
       "      <th>first</th>\n",
       "      <th>last</th>\n",
       "    </tr>\n",
       "    <tr>\n",
       "      <th>email</th>\n",
       "      <th></th>\n",
       "      <th></th>\n",
       "    </tr>\n",
       "  </thead>\n",
       "  <tbody>\n",
       "    <tr>\n",
       "      <th>ali@gmial.com</th>\n",
       "      <td>Ali</td>\n",
       "      <td>hassan</td>\n",
       "    </tr>\n",
       "    <tr>\n",
       "      <th>ahmed@gmail.com</th>\n",
       "      <td>Ahmed</td>\n",
       "      <td>omar</td>\n",
       "    </tr>\n",
       "    <tr>\n",
       "      <th>mohamed@gmail.com</th>\n",
       "      <td>mohamed</td>\n",
       "      <td>abdo</td>\n",
       "    </tr>\n",
       "  </tbody>\n",
       "</table>\n",
       "</div>"
      ],
      "text/plain": [
       "                     first    last\n",
       "email                             \n",
       "ali@gmial.com          Ali  hassan\n",
       "ahmed@gmail.com      Ahmed    omar\n",
       "mohamed@gmail.com  mohamed    abdo"
      ]
     },
     "execution_count": 36,
     "metadata": {},
     "output_type": "execute_result"
    }
   ],
   "source": [
    "df.set_index(\"email\",inplace = True)\n",
    "df"
   ]
  },
  {
   "cell_type": "code",
   "execution_count": 45,
   "id": "63517157-2aa5-464f-ac41-d8ea04195d5c",
   "metadata": {},
   "outputs": [],
   "source": [
    "#loc to search by index "
   ]
  },
  {
   "cell_type": "code",
   "execution_count": 46,
   "id": "4dc9143f-81ba-4b92-aab6-4029d8d79fdf",
   "metadata": {},
   "outputs": [
    {
     "data": {
      "text/plain": [
       "first       Ali\n",
       "last     hassan\n",
       "Name: ali@gmial.com, dtype: object"
      ]
     },
     "execution_count": 46,
     "metadata": {},
     "output_type": "execute_result"
    }
   ],
   "source": [
    "df.loc[\"ali@gmial.com\"]"
   ]
  },
  {
   "cell_type": "code",
   "execution_count": 47,
   "id": "b32900ae-bb61-4d5c-85b0-3d7a9c9a8a6f",
   "metadata": {},
   "outputs": [
    {
     "data": {
      "text/plain": [
       "'hassan'"
      ]
     },
     "execution_count": 47,
     "metadata": {},
     "output_type": "execute_result"
    }
   ],
   "source": [
    "df.loc[\"ali@gmial.com\",\"last\"]"
   ]
  },
  {
   "cell_type": "code",
   "execution_count": 48,
   "id": "00d65cda-cc26-4023-8b96-08166c924057",
   "metadata": {},
   "outputs": [],
   "source": [
    "#reset index"
   ]
  },
  {
   "cell_type": "code",
   "execution_count": 52,
   "id": "4ea461d3-6a7e-4a5a-ba61-4ffa07f92029",
   "metadata": {},
   "outputs": [
    {
     "data": {
      "text/html": [
       "<div>\n",
       "<style scoped>\n",
       "    .dataframe tbody tr th:only-of-type {\n",
       "        vertical-align: middle;\n",
       "    }\n",
       "\n",
       "    .dataframe tbody tr th {\n",
       "        vertical-align: top;\n",
       "    }\n",
       "\n",
       "    .dataframe thead th {\n",
       "        text-align: right;\n",
       "    }\n",
       "</style>\n",
       "<table border=\"1\" class=\"dataframe\">\n",
       "  <thead>\n",
       "    <tr style=\"text-align: right;\">\n",
       "      <th></th>\n",
       "      <th>index</th>\n",
       "      <th>email</th>\n",
       "      <th>first</th>\n",
       "      <th>last</th>\n",
       "    </tr>\n",
       "  </thead>\n",
       "  <tbody>\n",
       "    <tr>\n",
       "      <th>0</th>\n",
       "      <td>0</td>\n",
       "      <td>ali@gmial.com</td>\n",
       "      <td>Ali</td>\n",
       "      <td>hassan</td>\n",
       "    </tr>\n",
       "    <tr>\n",
       "      <th>1</th>\n",
       "      <td>1</td>\n",
       "      <td>ahmed@gmail.com</td>\n",
       "      <td>Ahmed</td>\n",
       "      <td>omar</td>\n",
       "    </tr>\n",
       "    <tr>\n",
       "      <th>2</th>\n",
       "      <td>2</td>\n",
       "      <td>mohamed@gmail.com</td>\n",
       "      <td>mohamed</td>\n",
       "      <td>abdo</td>\n",
       "    </tr>\n",
       "  </tbody>\n",
       "</table>\n",
       "</div>"
      ],
      "text/plain": [
       "   index              email    first    last\n",
       "0      0      ali@gmial.com      Ali  hassan\n",
       "1      1    ahmed@gmail.com    Ahmed    omar\n",
       "2      2  mohamed@gmail.com  mohamed    abdo"
      ]
     },
     "execution_count": 52,
     "metadata": {},
     "output_type": "execute_result"
    }
   ],
   "source": [
    "df.reset_index(inplace =True)\n",
    "df"
   ]
  },
  {
   "cell_type": "code",
   "execution_count": 57,
   "id": "e7daa014-f8da-4c99-a6b7-dc50285f64d8",
   "metadata": {},
   "outputs": [],
   "source": [
    "#sort_index"
   ]
  },
  {
   "cell_type": "code",
   "execution_count": 61,
   "id": "41be7ec1-f41b-4ff6-b02f-8086ca9e2f61",
   "metadata": {},
   "outputs": [
    {
     "ename": "KeyError",
     "evalue": "\"None of ['last'] are in the columns\"",
     "output_type": "error",
     "traceback": [
      "\u001b[1;31m---------------------------------------------------------------------------\u001b[0m",
      "\u001b[1;31mKeyError\u001b[0m                                  Traceback (most recent call last)",
      "\u001b[1;32m~\\AppData\\Local\\Temp\\ipykernel_15748\\3098050194.py\u001b[0m in \u001b[0;36m?\u001b[1;34m()\u001b[0m\n\u001b[1;32m----> 1\u001b[1;33m \u001b[0mdf\u001b[0m\u001b[1;33m.\u001b[0m\u001b[0mset_index\u001b[0m\u001b[1;33m(\u001b[0m\u001b[1;34m\"last\"\u001b[0m\u001b[1;33m,\u001b[0m\u001b[0minplace\u001b[0m \u001b[1;33m=\u001b[0m\u001b[1;32mTrue\u001b[0m\u001b[1;33m)\u001b[0m\u001b[1;33m\u001b[0m\u001b[1;33m\u001b[0m\u001b[0m\n\u001b[0m",
      "\u001b[1;32mD:\\Programming\\python projects\\pandas\\.venv\\lib\\site-packages\\pandas\\core\\frame.py\u001b[0m in \u001b[0;36m?\u001b[1;34m(self, keys, drop, append, inplace, verify_integrity)\u001b[0m\n\u001b[0;32m   6102\u001b[0m                     \u001b[1;32mif\u001b[0m \u001b[1;32mnot\u001b[0m \u001b[0mfound\u001b[0m\u001b[1;33m:\u001b[0m\u001b[1;33m\u001b[0m\u001b[1;33m\u001b[0m\u001b[0m\n\u001b[0;32m   6103\u001b[0m                         \u001b[0mmissing\u001b[0m\u001b[1;33m.\u001b[0m\u001b[0mappend\u001b[0m\u001b[1;33m(\u001b[0m\u001b[0mcol\u001b[0m\u001b[1;33m)\u001b[0m\u001b[1;33m\u001b[0m\u001b[1;33m\u001b[0m\u001b[0m\n\u001b[0;32m   6104\u001b[0m \u001b[1;33m\u001b[0m\u001b[0m\n\u001b[0;32m   6105\u001b[0m         \u001b[1;32mif\u001b[0m \u001b[0mmissing\u001b[0m\u001b[1;33m:\u001b[0m\u001b[1;33m\u001b[0m\u001b[1;33m\u001b[0m\u001b[0m\n\u001b[1;32m-> 6106\u001b[1;33m             \u001b[1;32mraise\u001b[0m \u001b[0mKeyError\u001b[0m\u001b[1;33m(\u001b[0m\u001b[1;34mf\"None of {missing} are in the columns\"\u001b[0m\u001b[1;33m)\u001b[0m\u001b[1;33m\u001b[0m\u001b[1;33m\u001b[0m\u001b[0m\n\u001b[0m\u001b[0;32m   6107\u001b[0m \u001b[1;33m\u001b[0m\u001b[0m\n\u001b[0;32m   6108\u001b[0m         \u001b[1;32mif\u001b[0m \u001b[0minplace\u001b[0m\u001b[1;33m:\u001b[0m\u001b[1;33m\u001b[0m\u001b[1;33m\u001b[0m\u001b[0m\n\u001b[0;32m   6109\u001b[0m             \u001b[0mframe\u001b[0m \u001b[1;33m=\u001b[0m \u001b[0mself\u001b[0m\u001b[1;33m\u001b[0m\u001b[1;33m\u001b[0m\u001b[0m\n",
      "\u001b[1;31mKeyError\u001b[0m: \"None of ['last'] are in the columns\""
     ]
    }
   ],
   "source": [
    "df.set_index(\"last\",inplace =True)"
   ]
  },
  {
   "cell_type": "code",
   "execution_count": 63,
   "id": "8336a486-b9ef-4b20-8cc4-46a1fa9e4de8",
   "metadata": {},
   "outputs": [
    {
     "data": {
      "text/html": [
       "<div>\n",
       "<style scoped>\n",
       "    .dataframe tbody tr th:only-of-type {\n",
       "        vertical-align: middle;\n",
       "    }\n",
       "\n",
       "    .dataframe tbody tr th {\n",
       "        vertical-align: top;\n",
       "    }\n",
       "\n",
       "    .dataframe thead th {\n",
       "        text-align: right;\n",
       "    }\n",
       "</style>\n",
       "<table border=\"1\" class=\"dataframe\">\n",
       "  <thead>\n",
       "    <tr style=\"text-align: right;\">\n",
       "      <th></th>\n",
       "      <th>index</th>\n",
       "      <th>email</th>\n",
       "      <th>first</th>\n",
       "    </tr>\n",
       "    <tr>\n",
       "      <th>last</th>\n",
       "      <th></th>\n",
       "      <th></th>\n",
       "      <th></th>\n",
       "    </tr>\n",
       "  </thead>\n",
       "  <tbody>\n",
       "    <tr>\n",
       "      <th>abdo</th>\n",
       "      <td>2</td>\n",
       "      <td>mohamed@gmail.com</td>\n",
       "      <td>mohamed</td>\n",
       "    </tr>\n",
       "    <tr>\n",
       "      <th>hassan</th>\n",
       "      <td>0</td>\n",
       "      <td>ali@gmial.com</td>\n",
       "      <td>Ali</td>\n",
       "    </tr>\n",
       "    <tr>\n",
       "      <th>omar</th>\n",
       "      <td>1</td>\n",
       "      <td>ahmed@gmail.com</td>\n",
       "      <td>Ahmed</td>\n",
       "    </tr>\n",
       "  </tbody>\n",
       "</table>\n",
       "</div>"
      ],
      "text/plain": [
       "        index              email    first\n",
       "last                                     \n",
       "abdo        2  mohamed@gmail.com  mohamed\n",
       "hassan      0      ali@gmial.com      Ali\n",
       "omar        1    ahmed@gmail.com    Ahmed"
      ]
     },
     "execution_count": 63,
     "metadata": {},
     "output_type": "execute_result"
    }
   ],
   "source": [
    "df.sort_index() #default asending = True"
   ]
  },
  {
   "cell_type": "code",
   "execution_count": null,
   "id": "91d7d5f7-0cab-44f0-8065-ee80eb9fc944",
   "metadata": {},
   "outputs": [],
   "source": []
  }
 ],
 "metadata": {
  "kernelspec": {
   "display_name": "Python 3 (ipykernel)",
   "language": "python",
   "name": "python3"
  },
  "language_info": {
   "codemirror_mode": {
    "name": "ipython",
    "version": 3
   },
   "file_extension": ".py",
   "mimetype": "text/x-python",
   "name": "python",
   "nbconvert_exporter": "python",
   "pygments_lexer": "ipython3",
   "version": "3.10.11"
  }
 },
 "nbformat": 4,
 "nbformat_minor": 5
}
