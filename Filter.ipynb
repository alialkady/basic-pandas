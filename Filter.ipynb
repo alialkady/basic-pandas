{
 "cells": [
  {
   "cell_type": "code",
   "execution_count": 8,
   "id": "e91dd486-dd64-45e3-be5f-086180eaf497",
   "metadata": {},
   "outputs": [],
   "source": [
    "import pandas as pd"
   ]
  },
  {
   "cell_type": "code",
   "execution_count": 9,
   "id": "734f9834-4411-4fe9-bebc-869e98d0d01f",
   "metadata": {},
   "outputs": [],
   "source": [
    "people = {\"first\":[\"Ali\",\"Ahmed\",\"mohamed\"],\"last\":[\"hassan\",\"omar\",\"omar\"],\"email\":[\"ali@gmial.com\",\"ahmed@gmail.com\",\"mohamed@gmail.com\"]}"
   ]
  },
  {
   "cell_type": "code",
   "execution_count": 10,
   "id": "6976e521-12f9-4c45-bdf6-f4db6a0eb492",
   "metadata": {},
   "outputs": [
    {
     "data": {
      "text/html": [
       "<div>\n",
       "<style scoped>\n",
       "    .dataframe tbody tr th:only-of-type {\n",
       "        vertical-align: middle;\n",
       "    }\n",
       "\n",
       "    .dataframe tbody tr th {\n",
       "        vertical-align: top;\n",
       "    }\n",
       "\n",
       "    .dataframe thead th {\n",
       "        text-align: right;\n",
       "    }\n",
       "</style>\n",
       "<table border=\"1\" class=\"dataframe\">\n",
       "  <thead>\n",
       "    <tr style=\"text-align: right;\">\n",
       "      <th></th>\n",
       "      <th>first</th>\n",
       "      <th>last</th>\n",
       "      <th>email</th>\n",
       "    </tr>\n",
       "  </thead>\n",
       "  <tbody>\n",
       "    <tr>\n",
       "      <th>0</th>\n",
       "      <td>Ali</td>\n",
       "      <td>hassan</td>\n",
       "      <td>ali@gmial.com</td>\n",
       "    </tr>\n",
       "    <tr>\n",
       "      <th>1</th>\n",
       "      <td>Ahmed</td>\n",
       "      <td>omar</td>\n",
       "      <td>ahmed@gmail.com</td>\n",
       "    </tr>\n",
       "    <tr>\n",
       "      <th>2</th>\n",
       "      <td>mohamed</td>\n",
       "      <td>omar</td>\n",
       "      <td>mohamed@gmail.com</td>\n",
       "    </tr>\n",
       "  </tbody>\n",
       "</table>\n",
       "</div>"
      ],
      "text/plain": [
       "     first    last              email\n",
       "0      Ali  hassan      ali@gmial.com\n",
       "1    Ahmed    omar    ahmed@gmail.com\n",
       "2  mohamed    omar  mohamed@gmail.com"
      ]
     },
     "execution_count": 10,
     "metadata": {},
     "output_type": "execute_result"
    }
   ],
   "source": [
    "df = pd.DataFrame(people)\n",
    "df"
   ]
  },
  {
   "cell_type": "code",
   "execution_count": 11,
   "id": "cb59b26c-6cbe-4635-ad0e-b57fc55c5ced",
   "metadata": {},
   "outputs": [],
   "source": [
    "#filter"
   ]
  },
  {
   "cell_type": "code",
   "execution_count": 14,
   "id": "49108ccd-e1e8-4ca3-8ce3-b59e526c2abc",
   "metadata": {},
   "outputs": [
    {
     "data": {
      "text/plain": [
       "0    False\n",
       "1     True\n",
       "2     True\n",
       "Name: last, dtype: bool"
      ]
     },
     "execution_count": 14,
     "metadata": {},
     "output_type": "execute_result"
    }
   ],
   "source": [
    "filt = (df[\"last\"]==\"omar\")\n",
    "filt"
   ]
  },
  {
   "cell_type": "code",
   "execution_count": 16,
   "id": "9c6078a1-f687-468e-a55f-6627dce41382",
   "metadata": {},
   "outputs": [
    {
     "data": {
      "text/html": [
       "<div>\n",
       "<style scoped>\n",
       "    .dataframe tbody tr th:only-of-type {\n",
       "        vertical-align: middle;\n",
       "    }\n",
       "\n",
       "    .dataframe tbody tr th {\n",
       "        vertical-align: top;\n",
       "    }\n",
       "\n",
       "    .dataframe thead th {\n",
       "        text-align: right;\n",
       "    }\n",
       "</style>\n",
       "<table border=\"1\" class=\"dataframe\">\n",
       "  <thead>\n",
       "    <tr style=\"text-align: right;\">\n",
       "      <th></th>\n",
       "      <th>first</th>\n",
       "      <th>last</th>\n",
       "      <th>email</th>\n",
       "    </tr>\n",
       "  </thead>\n",
       "  <tbody>\n",
       "    <tr>\n",
       "      <th>1</th>\n",
       "      <td>Ahmed</td>\n",
       "      <td>omar</td>\n",
       "      <td>ahmed@gmail.com</td>\n",
       "    </tr>\n",
       "    <tr>\n",
       "      <th>2</th>\n",
       "      <td>mohamed</td>\n",
       "      <td>omar</td>\n",
       "      <td>mohamed@gmail.com</td>\n",
       "    </tr>\n",
       "  </tbody>\n",
       "</table>\n",
       "</div>"
      ],
      "text/plain": [
       "     first  last              email\n",
       "1    Ahmed  omar    ahmed@gmail.com\n",
       "2  mohamed  omar  mohamed@gmail.com"
      ]
     },
     "execution_count": 16,
     "metadata": {},
     "output_type": "execute_result"
    }
   ],
   "source": [
    "df[filt]"
   ]
  },
  {
   "cell_type": "code",
   "execution_count": 20,
   "id": "59c0a67f-8a51-4826-88ed-95ac43e1fac0",
   "metadata": {},
   "outputs": [
    {
     "data": {
      "text/plain": [
       "1      ahmed@gmail.com\n",
       "2    mohamed@gmail.com\n",
       "Name: email, dtype: object"
      ]
     },
     "execution_count": 20,
     "metadata": {},
     "output_type": "execute_result"
    }
   ],
   "source": [
    "df.loc[filt, \"email\"] #df.loc[~filt,\"email\"] will give the opposite"
   ]
  },
  {
   "cell_type": "code",
   "execution_count": 21,
   "id": "3f274d8b-858c-4ae2-aaf4-bb8a874f80e7",
   "metadata": {},
   "outputs": [
    {
     "data": {
      "text/plain": [
       "0    ali@gmial.com\n",
       "Name: email, dtype: object"
      ]
     },
     "execution_count": 21,
     "metadata": {},
     "output_type": "execute_result"
    }
   ],
   "source": [
    "df.loc[~filt,\"email\"]"
   ]
  }
 ],
 "metadata": {
  "kernelspec": {
   "display_name": "Python 3 (ipykernel)",
   "language": "python",
   "name": "python3"
  },
  "language_info": {
   "codemirror_mode": {
    "name": "ipython",
    "version": 3
   },
   "file_extension": ".py",
   "mimetype": "text/x-python",
   "name": "python",
   "nbconvert_exporter": "python",
   "pygments_lexer": "ipython3",
   "version": "3.10.11"
  }
 },
 "nbformat": 4,
 "nbformat_minor": 5
}
